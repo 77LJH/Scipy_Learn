{
 "cells": [
  {
   "cell_type": "markdown",
   "id": "9e0efaff",
   "metadata": {},
   "source": [
    "SciPy 的 optimize 模块提供了常用的最优化算法函数实现，我们可以直接调用这些函数完成我们的优化问题，比如查找函数的最小值或方程的根等。\n",
    "\n",
    "NumPy 能够找到多项式和线性方程的根，但它无法找到非线性方程的根，如下所示：\n",
    "\n",
    "x + cos(x)\n",
    "因此我们可以使用 SciPy 的 optimze.root 函数，这个函数需要两个参数：\n",
    "\n",
    "fun - 表示方程的函数。\n",
    "x0 - 根的初始猜测。\n",
    "该函数返回一个对象，其中包含有关解决方案的信息。\n",
    "\n",
    "实际解决方案在返回对象的属性 x ，查看如下实例："
   ]
  },
  {
   "cell_type": "code",
   "execution_count": 3,
   "id": "221d1481",
   "metadata": {},
   "outputs": [
    {
     "name": "stdout",
     "output_type": "stream",
     "text": [
      "[-0.73908513]\n"
     ]
    }
   ],
   "source": [
    "from scipy.optimize import root\n",
    "from math import cos\n",
    "def eqn(x):\n",
    "    return x+cos(x)\n",
    "myroot=root(eqn,0)\n",
    "print(myroot.x)"
   ]
  },
  {
   "cell_type": "markdown",
   "id": "01c467a7",
   "metadata": {},
   "source": [
    "最小化函数\n",
    "函数表示一条曲线，曲线有高点和低点。\n",
    "\n",
    "高点称为最大值。\n",
    "\n",
    "低点称为最小值。\n",
    "\n",
    "整条曲线中的最高点称为全局最大值，其余部分称为局部最大值。\n",
    "\n",
    "整条曲线的最低点称为全局最小值，其余的称为局部最小值。\n",
    "\n",
    "可以使用 scipy.optimize.minimize() 函数来最小化函数。\n",
    "\n",
    "minimize() 函接受以下几个参数：\n",
    "\n",
    "fun - 要优化的函数\n",
    "\n",
    "x0 - 初始猜测值\n",
    "\n",
    "method - 要使用的方法名称，值可以是：'CG'，'BFGS'，'Newton-CG'，'L-BFGS-B'，'TNC'，'COBYLA'，，'SLSQP'。\n",
    "\n",
    "callback - 每次优化迭代后调用的函数。\n",
    "\n",
    "options - 定义其他参数的字典：\n",
    "\n",
    "{\n",
    "     \"disp\": boolean - print detailed description\n",
    "     \"gtol\": number - the tolerance of the error\n",
    "}"
   ]
  },
  {
   "cell_type": "code",
   "execution_count": 4,
   "id": "cf7ae253",
   "metadata": {},
   "outputs": [
    {
     "name": "stdout",
     "output_type": "stream",
     "text": [
      "      fun: 1.75\n",
      " hess_inv: array([[0.50000001]])\n",
      "      jac: array([0.])\n",
      "  message: 'Optimization terminated successfully.'\n",
      "     nfev: 8\n",
      "      nit: 2\n",
      "     njev: 4\n",
      "   status: 0\n",
      "  success: True\n",
      "        x: array([-0.50000001])\n"
     ]
    }
   ],
   "source": [
    "from scipy.optimize import minimize\n",
    "\n",
    "def eqn(x):\n",
    "    return x**2+x+2\n",
    "mymin=minimize(eqn,0,method=\"BFGS\")\n",
    "print(mymin)"
   ]
  },
  {
   "cell_type": "code",
   "execution_count": null,
   "id": "396efc8d",
   "metadata": {},
   "outputs": [],
   "source": []
  }
 ],
 "metadata": {
  "kernelspec": {
   "display_name": "Python 3 (ipykernel)",
   "language": "python",
   "name": "python3"
  },
  "language_info": {
   "codemirror_mode": {
    "name": "ipython",
    "version": 3
   },
   "file_extension": ".py",
   "mimetype": "text/x-python",
   "name": "python",
   "nbconvert_exporter": "python",
   "pygments_lexer": "ipython3",
   "version": "3.9.13"
  }
 },
 "nbformat": 4,
 "nbformat_minor": 5
}
