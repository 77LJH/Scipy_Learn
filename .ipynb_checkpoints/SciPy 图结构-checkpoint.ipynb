{
 "cells": [
  {
   "cell_type": "markdown",
   "id": "d9d98fdc",
   "metadata": {},
   "source": [
    "图结构是算法学中最强大的框架之一。\n",
    "\n",
    "图是各种关系的节点和边的集合，节点是与对象对应的顶点，边是对象之间的连接。\n",
    "\n",
    "SciPy 提供了 scipy.sparse.csgraph 模块来处理图结构。\n",
    "\n",
    "邻接矩阵\n",
    "邻接矩阵（Adjacency Matrix）是表示顶点之间相邻关系的矩阵。\n",
    "\n",
    "邻接矩阵逻辑结构分为两部分：V 和 E 集合，其中，V 是顶点，E 是边，边有时会有权重，表示节点之间的连接强度。"
   ]
  },
  {
   "cell_type": "markdown",
   "id": "b9f7b54b",
   "metadata": {},
   "source": [
    "连接组件\n",
    "查看所有连接组件使用 connected_components() 方法。\n",
    "\n",
    "在 scipy 库中，connected_components 函数用于分析稀疏图的连通分量。它的完整函数签名为 scipy.sparse.csgraph.connected_components(csgraph, directed=True, connection='weak', return_labels=True)。\n",
    "\n",
    "csgraph 是一个 N x N 矩阵，表示压缩稀疏图。输入的 csgraph 将被转换为 CSR 格式进行计算。\n",
    "\n",
    "directed 是一个可选的布尔值。如果为 True（默认），则对有向图进行操作：仅沿着 csgraph[i, j] 的路径从点 i 移动到点 j。如果为 False，则在无向图上查找最短路径：算法可以沿着 csgraph[i, j] 或 csgraph[j, i] 从点 i 进行到点 j。\n",
    "\n",
    "connection 是一个可选的字符串，取值为 ‘weak’ 或 ‘strong’。对于有向图，使用连接类型。如果从 i 到 j 和从 j 到 i 都存在路径，则节点 i 和 j 强连通。如果将有向图的所有有向边替换为无向边会产生一个连通的（无向）图，则有向图弱连通。如果 directed == False，则不引用此关键字。\n",
    "\n",
    "return_labels 是一个可选的布尔值。如果为 True（默认），则返回每个连通分量的标签。\n",
    "\n",
    "该函数返回两个值：n_components 和 labels。其中，n_components 是连通分量的数量，而 labels 是长度为 N 的数组，表示连通分量的标签1。\n",
    "\n",
    "在这个例子中，n_components 的值为2，表示图中有两个连通分量。labels 数组的长度与图中节点数相同，每个元素表示对应节点所属的连通分量的标签。在这个例子中，labels 的值为 [0, 0, 0, 1, 1]，表示节点 0、1 和 2 属于一个连通分量（标记为 0），而节点 3 和 4 属于另一个连通分量（标记为 1）。"
   ]
  },
  {
   "cell_type": "code",
   "execution_count": 1,
   "id": "9ffe5823",
   "metadata": {},
   "outputs": [
    {
     "name": "stdout",
     "output_type": "stream",
     "text": [
      "(2, array([0, 0, 0, 1, 1]))\n"
     ]
    }
   ],
   "source": [
    "import numpy as np\n",
    "from scipy.sparse.csgraph import connected_components\n",
    "from scipy.sparse import csr_matrix\n",
    "\n",
    "arr=np.array([\n",
    "  [0, 1, 1, 0, 0],\n",
    "    [0, 0, 1, 0, 0],\n",
    "    [0, 0, 0, 0, 0],\n",
    "    [0, 0, 0, 0, 1],\n",
    "    [0, 0, 0, 0, 0]\n",
    "])\n",
    "newarr=csr_matrix(arr)\n",
    "print(connected_components(newarr))"
   ]
  },
  {
   "cell_type": "markdown",
   "id": "732b8c68",
   "metadata": {},
   "source": [
    "Dijkstra -- 最短路径算法\n",
    "Dijkstra(迪杰斯特拉)最短路径算法，用于计算一个节点到其他所有节点的最短路径。\n",
    "\n",
    "Scipy 使用 dijkstra() 方法来计算一个元素到其他元素的最短路径。\n",
    "\n",
    "dijkstra() 方法可以设置以下几个参数：\n",
    "\n",
    "return_predecessors: 布尔值，设置 True，遍历所有路径，如果不想遍历所有路径可以设置为 False。\n",
    "\n",
    "indices: 元素的索引，返回该元素的所有路径。\n",
    "\n",
    "limit: 路径的最大权重。"
   ]
  },
  {
   "cell_type": "code",
   "execution_count": 3,
   "id": "c122a878",
   "metadata": {},
   "outputs": [
    {
     "name": "stdout",
     "output_type": "stream",
     "text": [
      "(array([0., 1., 2.]), array([-9999,     0,     0]))\n"
     ]
    }
   ],
   "source": [
    "from scipy.sparse.csgraph import dijkstra\n",
    "arr=np.array([\n",
    "  [0, 1, 2],\n",
    "  [1, 0, 0],\n",
    "  [2, 0, 0]\n",
    "])\n",
    "\n",
    "newarr=csr_matrix(arr)\n",
    "# return_predecessors=True 表示返回前驱节点数组\n",
    "# indices=0 表示从节点 0 开始计算最短路径。\n",
    "print(dijkstra(newarr,return_predecessors=True,indices=0))\n",
    "\"\"\"\n",
    "这段代码的输出是一个元组，包含两个数组。\n",
    "第一个数组表示从节点 0 到其他节点的最短距离，\n",
    "第二个数组表示从节点 0 到其他节点的最短路径上的前驱节点。\n",
    "前驱节点数组表示从节点 0 到节点 1 的最短路径上的前驱节点为节点 0，\n",
    "从节点 0 到节点 2 的最短路径上的前驱节点也为节点 0。\n",
    "\"\"\""
   ]
  },
  {
   "cell_type": "code",
   "execution_count": 3,
   "id": "7bef6eb2",
   "metadata": {},
   "outputs": [
    {
     "name": "stdout",
     "output_type": "stream",
     "text": [
      "[0. 3. 1. 5.]\n",
      "[-9999     0     0     2]\n"
     ]
    }
   ],
   "source": [
    "from scipy.sparse.csgraph import dijkstra\n",
    "arr = np.array([\n",
    "    [0, 3, 1, 0],\n",
    "    [3, 0, 0, 2],\n",
    "    [1, 0, 0, 4],\n",
    "    [0, 2, 4, 0]\n",
    "])\n",
    "\n",
    "newarr = csr_matrix(arr)\n",
    "distances, predecessors = dijkstra(newarr, return_predecessors=True, indices=0)\n",
    "\n",
    "print(distances)\n",
    "print(predecessors)"
   ]
  },
  {
   "cell_type": "markdown",
   "id": "26f6eb5a",
   "metadata": {},
   "source": [
    "Floyd Warshall -- 弗洛伊德算法\n",
    "弗洛伊德算法算法是解决任意两点间的最短路径的一种算法。\n",
    "\n",
    "Scipy 使用 floyd_warshall() 方法来查找所有元素对之间的最短路径。"
   ]
  },
  {
   "cell_type": "code",
   "execution_count": 6,
   "id": "fd61d82c",
   "metadata": {},
   "outputs": [
    {
     "name": "stdout",
     "output_type": "stream",
     "text": [
      "[[0. 1. 2.]\n",
      " [1. 0. 3.]\n",
      " [2. 3. 0.]]\n",
      "[[-9999     0     0]\n",
      " [    1 -9999     0]\n",
      " [    2     0 -9999]]\n"
     ]
    }
   ],
   "source": [
    "import numpy as np\n",
    "from scipy.sparse.csgraph import floyd_warshall\n",
    "from scipy.sparse import csr_matrix\n",
    "\n",
    "arr = np.array([\n",
    "  [0, 1, 2],\n",
    "  [1, 0, 0],\n",
    "  [2, 0, 0]\n",
    "])\n",
    "\n",
    "newarr = csr_matrix(arr)\n",
    "distances, predecessors = floyd_warshall(newarr, return_predecessors=True)\n",
    "\"\"\"\n",
    "第一个矩阵与之前的例子相同，表示图中所有节点对之间的最短距离。\n",
    "第二个矩阵表示图中所有节点对之间最短路径上的前驱节点。\"\"\"\n",
    "\n",
    "print(distances)\n",
    "print(predecessors)"
   ]
  },
  {
   "cell_type": "code",
   "execution_count": 5,
   "id": "1ddcb166",
   "metadata": {},
   "outputs": [
    {
     "name": "stdout",
     "output_type": "stream",
     "text": [
      "[[0. 3. 1. 5.]\n",
      " [3. 0. 4. 2.]\n",
      " [1. 4. 0. 4.]\n",
      " [5. 2. 4. 0.]]\n"
     ]
    }
   ],
   "source": [
    "import numpy as np\n",
    "from scipy.sparse import csr_matrix\n",
    "from scipy.sparse.csgraph import floyd_warshall\n",
    "\n",
    "arr = np.array([\n",
    "    [0, 3, 1, 0],\n",
    "    [3, 0, 0, 2],\n",
    "    [1, 0, 0, 4],\n",
    "    [0, 2, 4, 0]\n",
    "])\n",
    "\n",
    "newarr = csr_matrix(arr)\n",
    "distances = floyd_warshall(newarr)\n",
    "\n",
    "print(distances)"
   ]
  },
  {
   "cell_type": "markdown",
   "id": "40b0f296",
   "metadata": {},
   "source": [
    "Bellman Ford -- 贝尔曼-福特算法\n",
    "贝尔曼-福特算法是解决任意两点间的最短路径的一种算法。\n",
    "\n",
    "Scipy 使用 bellman_ford() 方法来查找所有元素对之间的最短路径，通常可以在任何图中使用，包括有向图、带负权边的图\n",
    "\n",
    "bellman_ford 是 scipy.sparse.csgraph 模块中的一个函数，用于计算给定图中单源最短路径。它使用 Bellman-Ford 算法实现，时间复杂度为 O(VE)，其中 V 是图中节点的数量，E 是图中边的数量。\n",
    "\n",
    "与 dijkstra 函数不同，bellman_ford 函数能够处理带有负权边的图。如果图中存在负环（即总权值为负数的环），则dijkstra算法将引发异常。\n",
    "\n",
    "在图论中，边的权值通常表示从一点到另一点的距离、花费或时间。在大多数情况下，边的权值都是非负的，因为距离、花费和时间通常都是非负的。\n",
    "\n",
    "然而，在某些情况下，边的权值可能是负数。例如，在金融领域，边的权值可能表示投资回报率，这个回报率可能是负数。在这种情况下，图中就会出现带有负权边的情况。\n",
    "\n",
    "带有负权边的图在计算最短路径时会更加复杂。一些最短路径算法（如 Dijkstra 算法）无法处理带有负权边的图。而其他一些算法（如 Bellman-Ford 算法）能够处理带有负权边的图，但如果图中存在负环（即总权值为负数的环），则算法将引发异常。\n",
    "\n",
    "在实际应用中，如果图中存在负环，则需要检查数据是否正确，并尝试修正数据以消除负环。如果负环是合理的，则需要重新审视问题，看看是否可以通过其他方式解决。"
   ]
  },
  {
   "cell_type": "code",
   "execution_count": 7,
   "id": "b940167c",
   "metadata": {},
   "outputs": [
    {
     "name": "stdout",
     "output_type": "stream",
     "text": [
      "(array([ 0., -1.,  2.]), array([-9999,     0,     0]))\n"
     ]
    }
   ],
   "source": [
    "import numpy as np\n",
    "from scipy.sparse.csgraph import bellman_ford\n",
    "from scipy.sparse import csr_matrix\n",
    "\n",
    "arr = np.array([\n",
    "  [0, -1, 2],\n",
    "  [1, 0, 0],\n",
    "  [2, 0, 0]\n",
    "])\n",
    "\n",
    "newarr = csr_matrix(arr)\n",
    "\n",
    "print(bellman_ford(newarr, return_predecessors=True, indices=0))"
   ]
  },
  {
   "cell_type": "code",
   "execution_count": 8,
   "id": "1883a6db",
   "metadata": {},
   "outputs": [
    {
     "name": "stdout",
     "output_type": "stream",
     "text": [
      "[ 0. -1.  2.]\n",
      "[-9999     0     0]\n"
     ]
    }
   ],
   "source": [
    "import numpy as np\n",
    "from scipy.sparse import csr_matrix\n",
    "from scipy.sparse.csgraph import bellman_ford\n",
    "\n",
    "arr = np.array([\n",
    "    [0, -1, 2],\n",
    "    [0, 0, 3],\n",
    "    [0, 0, 0]\n",
    "])\n",
    "\n",
    "newarr = csr_matrix(arr)\n",
    "distances, predecessors = bellman_ford(newarr, return_predecessors=True, indices=0)\n",
    "\n",
    "print(distances)\n",
    "print(predecessors)"
   ]
  },
  {
   "cell_type": "markdown",
   "id": "1bb17723",
   "metadata": {},
   "source": [
    "深度优先顺序\n",
    "depth_first_order() 方法从一个节点返回深度优先遍历的顺序。\n",
    "\n",
    "可以接收以下参数：\n",
    "\n",
    "图\n",
    "图开始遍历的元素"
   ]
  },
  {
   "cell_type": "code",
   "execution_count": 9,
   "id": "21ef014d",
   "metadata": {},
   "outputs": [
    {
     "name": "stdout",
     "output_type": "stream",
     "text": [
      "(array([1, 0, 3, 2]), array([    1, -9999,     1,     0]))\n"
     ]
    }
   ],
   "source": [
    "import numpy as np\n",
    "from scipy.sparse.csgraph import depth_first_order\n",
    "from scipy.sparse import csr_matrix\n",
    "\n",
    "arr = np.array([\n",
    "  [0, 1, 0, 1],\n",
    "  [1, 1, 1, 1],\n",
    "  [2, 1, 1, 0],\n",
    "  [0, 1, 0, 1]\n",
    "])\n",
    "\n",
    "newarr = csr_matrix(arr)\n",
    "\n",
    "print(depth_first_order(newarr, 1))\n",
    "\"\"\"\n",
    "这段代码的输出是两个数组。第一个数组表示遍历的顺序，第二个数组表示每个节点的父节点。\n",
    "\"\"\""
   ]
  },
  {
   "cell_type": "markdown",
   "id": "129383d5",
   "metadata": {},
   "source": [
    "广度优先顺序\n",
    "breadth_first_order() 方法从一个节点返回广度优先遍历的顺序。\n",
    "\n",
    "可以接收以下参数：\n",
    "\n",
    "图\n",
    "图开始遍历的元素\n",
    "\n"
   ]
  },
  {
   "cell_type": "code",
   "execution_count": 10,
   "id": "6dcfae62",
   "metadata": {},
   "outputs": [
    {
     "name": "stdout",
     "output_type": "stream",
     "text": [
      "(array([1, 0, 2, 3]), array([    1, -9999,     1,     1]))\n"
     ]
    }
   ],
   "source": [
    "import numpy as np\n",
    "from scipy.sparse.csgraph import breadth_first_order\n",
    "from scipy.sparse import csr_matrix\n",
    "\n",
    "arr = np.array([\n",
    "  [0, 1, 0, 1],\n",
    "  [1, 1, 1, 1],\n",
    "  [2, 1, 1, 0],\n",
    "  [0, 1, 0, 1]\n",
    "])\n",
    "\n",
    "newarr = csr_matrix(arr)\n",
    "\n",
    "print(breadth_first_order(newarr, 1))\n",
    "\"\"\"\n",
    "它返回两个数组：第一个数组表示遍历的顺序，第二个数组表示每个节点的父节点。\"\"\""
   ]
  },
  {
   "cell_type": "code",
   "execution_count": null,
   "id": "349d46f0",
   "metadata": {},
   "outputs": [],
   "source": []
  }
 ],
 "metadata": {
  "kernelspec": {
   "display_name": "Python 3 (ipykernel)",
   "language": "python",
   "name": "python3"
  },
  "language_info": {
   "codemirror_mode": {
    "name": "ipython",
    "version": 3
   },
   "file_extension": ".py",
   "mimetype": "text/x-python",
   "name": "python",
   "nbconvert_exporter": "python",
   "pygments_lexer": "ipython3",
   "version": "3.9.13"
  }
 },
 "nbformat": 4,
 "nbformat_minor": 5
}
