{
 "cells": [
  {
   "cell_type": "markdown",
   "id": "b8389dd2",
   "metadata": {},
   "source": [
    "SciPy Matlab 数组\n",
    "\n",
    "NumPy 提供了 Python 可读格式的数据保存方法。\n",
    "\n",
    "SciPy 提供了与 Matlab 的交互的方法。\n",
    "\n",
    "SciPy 的 scipy.io 模块提供了很多函数来处理 Matlab 的数组。\n",
    "\n",
    "以 Matlab 格式导出数据\n",
    "savemat() 方法可以导出 Matlab 格式的数据。\n",
    "\n",
    "该方法参数有：\n",
    "filename - 保存数据的文件名。\n",
    "mdict - 包含数据的字典。\n",
    "do_compression - 布尔值，指定结果数据是否压缩。默认为 False。\n",
    "将数组作为变量 \"vec\" 导出到 mat 文件："
   ]
  },
  {
   "cell_type": "code",
   "execution_count": 1,
   "id": "617e8fea",
   "metadata": {},
   "outputs": [],
   "source": [
    "from scipy import io\n",
    "import numpy as np\n",
    "arr=np.arange(10)\n",
    "\n",
    "arr=np.arange(10)\n",
    "\n",
    "io.savemat(\"arr.mat\",{\"vec\":arr})"
   ]
  },
  {
   "cell_type": "markdown",
   "id": "c7e8f276",
   "metadata": {},
   "source": [
    "导入 Matlab 格式数据\n",
    "loadmat() 方法可以导入 Matlab 格式数据。\n",
    "\n",
    "该方法参数：\n",
    "\n",
    "filename - 保存数据的文件名。\n",
    "返回一个结构化数组，其键是变量名，对应的值是变量值。\n",
    "\n",
    "以下实例从 mat 文件中导入数组："
   ]
  },
  {
   "cell_type": "code",
   "execution_count": 2,
   "id": "18e52f15",
   "metadata": {},
   "outputs": [
    {
     "name": "stdout",
     "output_type": "stream",
     "text": [
      "{'__header__': b'MATLAB 5.0 MAT-file Platform: nt, Created on: Tue Mar 28 20:33:28 2023', '__version__': '1.0', '__globals__': [], 'vec': array([[0, 1, 2, 3, 4, 5, 6, 7, 8, 9]])}\n"
     ]
    }
   ],
   "source": [
    "from scipy import io\n",
    "import numpy as np\n",
    "\n",
    "arr=np.array([0, 1, 2, 3, 4, 5, 6, 7, 8, 9,])\n",
    "\n",
    "# 导出\n",
    "io.savemat(\"arr.mat\",{\"vec\":arr})\n",
    "\n",
    "# 导入\n",
    "mydata=io.loadmat(\"arr.mat\")\n",
    "\n",
    "print(mydata)"
   ]
  },
  {
   "cell_type": "markdown",
   "id": "5762b095",
   "metadata": {},
   "source": [
    "使用变量名 \"vec\" 只显示 matlab 数据的数组："
   ]
  },
  {
   "cell_type": "code",
   "execution_count": 3,
   "id": "6c8f69fe",
   "metadata": {},
   "outputs": [
    {
     "name": "stdout",
     "output_type": "stream",
     "text": [
      "[[0 1 2 3 4 5 6 7 8 9]]\n"
     ]
    }
   ],
   "source": [
    "from scipy import io\n",
    "import numpy as np\n",
    "\n",
    "arr=np.array([0, 1, 2, 3, 4, 5, 6, 7, 8, 9,])\n",
    "\n",
    "# 导出\n",
    "io.savemat('arr.mat', {\"vec\": arr})\n",
    "\n",
    "# 导入\n",
    "mydata = io.loadmat('arr.mat')\n",
    "\n",
    "print(mydata['vec'])"
   ]
  },
  {
   "cell_type": "markdown",
   "id": "90beaf0a",
   "metadata": {},
   "source": [
    "从结果可以看出数组最初是一维的，但在提取时它增加了一个维度，变成了二维数组。\n",
    "\n",
    "解决这个问题可以传递一个额外的参数 squeeze_me=True："
   ]
  },
  {
   "cell_type": "code",
   "execution_count": null,
   "id": "d0914da6",
   "metadata": {},
   "outputs": [],
   "source": [
    "from scipy import io\n",
    "import numpy as np\n",
    "\n",
    "arr = np.array([0, 1, 2, 3, 4, 5, 6, 7, 8, 9,])\n",
    "\n",
    "# 导出\n",
    "io.savemat('arr.mat', {\"vec\": arr})\n",
    "\n",
    "# 导入\n",
    "mydata = io.loadmat('arr.mat', squeeze_me=True)\n",
    "\n",
    "print(mydata['vec'])"
   ]
  }
 ],
 "metadata": {
  "kernelspec": {
   "display_name": "Python 3 (ipykernel)",
   "language": "python",
   "name": "python3"
  },
  "language_info": {
   "codemirror_mode": {
    "name": "ipython",
    "version": 3
   },
   "file_extension": ".py",
   "mimetype": "text/x-python",
   "name": "python",
   "nbconvert_exporter": "python",
   "pygments_lexer": "ipython3",
   "version": "3.9.13"
  }
 },
 "nbformat": 4,
 "nbformat_minor": 5
}
